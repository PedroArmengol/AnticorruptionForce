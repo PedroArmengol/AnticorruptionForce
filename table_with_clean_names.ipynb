{
 "cells": [
  {
   "cell_type": "code",
   "execution_count": 1,
   "metadata": {},
   "outputs": [
    {
     "name": "stderr",
     "output_type": "stream",
     "text": [
      "C:\\Users\\parmengol\\AppData\\Local\\Continuum\\anaconda3\\lib\\site-packages\\ipykernel\\parentpoller.py:116: UserWarning: Parent poll failed.  If the frontend dies,\n",
      "                the kernel may be left running.  Please let us know\n",
      "                about your system (bitness, Python, etc.) at\n",
      "                ipython-dev@scipy.org\n",
      "  ipython-dev@scipy.org\"\"\")\n"
     ]
    }
   ],
   "source": [
    "import pandas as pd\n",
    "import csv\n",
    "import matplotlib.pyplot as plt\n",
    "import numpy as np\n",
    "import operator\n",
    "import datetime\n",
    "import sys\n",
    "from datetime import datetime\n",
    "from dateutil.parser import parse\n",
    "import seaborn as sns\n",
    "from fuzzywuzzy import fuzz\n",
    "from fuzzywuzzy import process\n",
    "\n",
    "#sys.argv[0] Names of the script (following ones are the arguments)"
   ]
  },
  {
   "cell_type": "markdown",
   "metadata": {},
   "source": [
    "# Dataset"
   ]
  },
  {
   "cell_type": "code",
   "execution_count": 2,
   "metadata": {},
   "outputs": [],
   "source": [
    "years = ['2014','2015','2016','2017']\n",
    "ls_dfs=[]\n",
    "for year in years:\n",
    "    df = pd.read_csv('180717_EF+RM - Obra Pública'+ ' '+ year +'.csv',engine='python')\n",
    "    # y de una vez creamos una variable para el anio del contrato\n",
    "    df['year']= float(year)\n",
    "    ls_dfs.append(df)\n",
    "df_chihuahua=pd.concat(ls_dfs, sort=False)"
   ]
  },
  {
   "cell_type": "markdown",
   "metadata": {},
   "source": [
    "# Functions to standarize the names of the whole dataset"
   ]
  },
  {
   "cell_type": "code",
   "execution_count": 3,
   "metadata": {},
   "outputs": [],
   "source": [
    "def pool_names(df, list_names):\n",
    "    '''\n",
    "    This function takes a list of colnames that contain names and pool all the names of the columns into a single list\n",
    "    later on keeps just the unique names\n",
    "    '''\n",
    "    #Pool all names\n",
    "    general = []\n",
    "    for i in list_names:\n",
    "        list1 = list(df[i])\n",
    "        for j in list1:\n",
    "            general.append(j)\n",
    "    general = set(general)\n",
    "    general = list(general)\n",
    "    \n",
    "    #Leave just strings within the list\n",
    "    general = [x for x in general if isinstance(x, str) == True]\n",
    "    \n",
    "    return general "
   ]
  },
  {
   "cell_type": "code",
   "execution_count": 66,
   "metadata": {},
   "outputs": [],
   "source": [
    "def similarity_tuple(df,general,m):\n",
    "    \n",
    "    '''\n",
    "    Takes column i and return a dictionary with the names as keys and with the\n",
    "    tuples with other very likely same names as values\n",
    "    general -> list with unique names\n",
    "    m -> name of column to process\n",
    "    '''\n",
    "   \n",
    "    \n",
    "    d={}\n",
    "    posicion={}\n",
    "    for i, j in df.iterrows():\n",
    "        posicion[j[m]] = i\n",
    "    for i, j in df.iterrows():\n",
    "        if isinstance(j[m], str) == True:\n",
    "            list_to_compare = [x for x in general if x not in j[m]]\n",
    "            ls = []\n",
    "            for element in list_to_compare:\n",
    "                score = fuzz.ratio(j[m], element)\n",
    "                if score >93 and score <100:\n",
    "                    tupla = (element)\n",
    "                    ls.append(tupla)\n",
    "            d[j[m]]= ls\n",
    "    \n",
    "    lista = []\n",
    "    \n",
    "    \n",
    "    for i in d:\n",
    "        if d[i] != []:\n",
    "            tuple1 = [i,d[i][0]]\n",
    "            for k in d:\n",
    "                if i in d[k]:\n",
    "                    tuple1.append(k)\n",
    "            lista.append(tuple(tuple1))    \n",
    "\n",
    "    for i in lista:\n",
    "        for k in lista:\n",
    "            if i != k and set(i)==set(k):\n",
    "                lista.remove(k)\n",
    "    \n",
    "    lista1 = []\n",
    "    num = 0\n",
    "    for i in lista:\n",
    "        print(i)\n",
    "        num += 1\n",
    "        for j in i:\n",
    "            tuple1 = (num,j)\n",
    "            lista1.append(tuple1)\n",
    "    return lista1\n"
   ]
  },
  {
   "cell_type": "code",
   "execution_count": 67,
   "metadata": {},
   "outputs": [],
   "source": [
    "def col_ids(df,general,colnames):\n",
    "    '''\n",
    "    general is the list with all the pooled names\n",
    "    df dataframe\n",
    "    i is the names of the column that is being processed\n",
    "    '''\n",
    "    for i in colnames:\n",
    "        \n",
    "        df1 = df.dropna(subset=[i])\n",
    "               \n",
    "        lista1 = similarity_tuple(df1,general,i)\n",
    "        \n",
    "        \n",
    "        if lista1 != None:\n",
    "        \n",
    "            lista_empresa = pd.DataFrame(lista1)\n",
    "    \n",
    "            name = i + \"_ID\"\n",
    "\n",
    "            lista_empresa.columns = [name, i]\n",
    "\n",
    "            lista_empresa[name] = lista_empresa[name].apply(str)\n",
    "            lista_empresa[name] = lista_empresa[name] + \"m\"\n",
    "\n",
    "\n",
    "            df1 = df1.merge(lista_empresa, on = i, how = 'left')\n",
    "\n",
    "\n",
    "            name1 = i + \"ID\"\n",
    "\n",
    "            df1[name1] = df1[i].rank(method='dense').astype(str)\n",
    "\n",
    "            df1[name1] = np.where(df1[name].isna() != True, df1[name], df1[name1])\n",
    "\n",
    "            df1 = df1.drop_duplicates(subset=[i, name])\n",
    "\n",
    "            df1 = df1[[i, name1]]\n",
    "\n",
    "            df = df.merge(df1, on = i, how = \"left\")\n",
    "        \n",
    "        \n",
    "    return df\n",
    "        \n",
    "        \n",
    "    "
   ]
  },
  {
   "cell_type": "code",
   "execution_count": 68,
   "metadata": {},
   "outputs": [],
   "source": [
    "def standarize_names(df, colnames):\n",
    "    '''\n",
    "    Standarize the names of a set of columns and asign a unique ID column for each names column in the dataset\n",
    "    '''\n",
    "    \n",
    "    #Pool names\n",
    "    general = pool_names(df, colnames)\n",
    "    general = [x for x in general if str(x) != 'nan']\n",
    "    #Generate columns with IDS \n",
    "    df1 = col_ids(df,general,colnames)\n",
    "    \n",
    "    return df1"
   ]
  },
  {
   "cell_type": "code",
   "execution_count": 73,
   "metadata": {},
   "outputs": [],
   "source": [
    "list1 = [\"Emp_gana\",\"Nom_emp_propu_1\",\"Nom_emp_propu_2\",\"Nom_emp_propu_3\",\"Nom_emp_propu_4\",\"Nom_emp_propu_5\"]"
   ]
  },
  {
   "cell_type": "code",
   "execution_count": 74,
   "metadata": {},
   "outputs": [
    {
     "name": "stdout",
     "output_type": "stream",
     "text": [
      "('proyectos y construcciones valar, s.a. de c.v.', 'proyectos y construcciones hanliba, s.a. de c.v.')\n",
      "('emilio rh, s. de r.l. m.i.', 'emilio rh, s. de r.l. de m.i.', 'emilio rh, s. de r.l. de m.i.')\n",
      "('copsa sistemas constructivos obras y proyectos, s.a. de c.v.', 'copsa sistemas constructivos de obras y proyectos, s.a. de c.v.', 'copsa sistemas constructivos de obras y proyectos, s.a. de c.v.')\n",
      "('constructora de desarrollos corporativos, s.a. de c.v.', 'constructora de desarrollos operativos, s.a. de c.v.', 'constructora de desarrollos operativos, s.a. de c.v.')\n",
      "('proyectos, construcciones y servicios de chihuahua, s.a. de c.v.', 'proyectos construcciones y servicios de chihuahua, s.a. de c.v.')\n",
      "('palermo construcciones s.a. de c.v.', 'palermo construcciones, s.a. de c.v.')\n",
      "('luis carlos bueno gardea', 'luis carlos bueno gadea')\n",
      "[(1, 'proyectos y construcciones valar, s.a. de c.v.'), (1, 'proyectos y construcciones hanliba, s.a. de c.v.'), (2, 'emilio rh, s. de r.l. m.i.'), (2, 'emilio rh, s. de r.l. de m.i.'), (2, 'emilio rh, s. de r.l. de m.i.'), (3, 'copsa sistemas constructivos obras y proyectos, s.a. de c.v.'), (3, 'copsa sistemas constructivos de obras y proyectos, s.a. de c.v.'), (3, 'copsa sistemas constructivos de obras y proyectos, s.a. de c.v.'), (4, 'constructora de desarrollos corporativos, s.a. de c.v.'), (4, 'constructora de desarrollos operativos, s.a. de c.v.'), (4, 'constructora de desarrollos operativos, s.a. de c.v.'), (5, 'proyectos, construcciones y servicios de chihuahua, s.a. de c.v.'), (5, 'proyectos construcciones y servicios de chihuahua, s.a. de c.v.'), (6, 'palermo construcciones s.a. de c.v.'), (6, 'palermo construcciones, s.a. de c.v.'), (7, 'luis carlos bueno gardea'), (7, 'luis carlos bueno gadea')]\n",
      "('compaÃ±ia constructora fronteriza, s.a. de c.v.', 'compaÃ±Ã\\xada constructora fronteriza, s.a. de c.v.', 'compaÃ±Ã\\xada constructora fronteriza, s.a. de c.v.')\n",
      "('constructora y proveedora fuentes, s.a. de c.v.', 'constructora y proovedora fuentes, s.a. de c.v.')\n",
      "('palermo construcciones, s.a. de c.v.', 'palermo construcciones s.a. de c.v.')\n",
      "[(1, 'compaÃ±ia constructora fronteriza, s.a. de c.v.'), (1, 'compaÃ±Ã\\xada constructora fronteriza, s.a. de c.v.'), (1, 'compaÃ±Ã\\xada constructora fronteriza, s.a. de c.v.'), (2, 'constructora y proveedora fuentes, s.a. de c.v.'), (2, 'constructora y proovedora fuentes, s.a. de c.v.'), (3, 'palermo construcciones, s.a. de c.v.'), (3, 'palermo construcciones s.a. de c.v.')]\n",
      "('compaÃ±ia constructora fronteriza, s.a. de c.v.', 'compaÃ±Ã\\xada constructora fronteriza, s.a. de c.v.')\n",
      "('constructora y proovedora fuentes, s.a. de c.v.', 'constructora y proveedora fuentes, s.a. de c.v.')\n",
      "('emilio rh, s. de r.l. de m.i.', 'emilio rh, s. de r.l. m.i.')\n",
      "('constructora de desarrollos operativos, s.a. de c.v.', 'constructora de desarrollos corporativos, s.a. de c.v.')\n",
      "[(1, 'compaÃ±ia constructora fronteriza, s.a. de c.v.'), (1, 'compaÃ±Ã\\xada constructora fronteriza, s.a. de c.v.'), (2, 'constructora y proovedora fuentes, s.a. de c.v.'), (2, 'constructora y proveedora fuentes, s.a. de c.v.'), (3, 'emilio rh, s. de r.l. de m.i.'), (3, 'emilio rh, s. de r.l. m.i.'), (4, 'constructora de desarrollos operativos, s.a. de c.v.'), (4, 'constructora de desarrollos corporativos, s.a. de c.v.')]\n",
      "('proyectos y construcciones valar, s.a. de c.v.', 'proyectos y construcciones hanliba, s.a. de c.v.')\n",
      "('compaÃ±Ã\\xada constructora fronteriza, s.a. de c.v.', 'compaÃ±ia constructora fronteriza, s.a. de c.v.')\n",
      "('palermo construcciones, s.a. de c.v.', 'palermo construcciones s.a. de c.v.')\n",
      "('emilio rh, s. de r.l. de m.i.', 'emilio rh, s. de r.l. m.i.')\n",
      "[(1, 'proyectos y construcciones valar, s.a. de c.v.'), (1, 'proyectos y construcciones hanliba, s.a. de c.v.'), (2, 'compaÃ±Ã\\xada constructora fronteriza, s.a. de c.v.'), (2, 'compaÃ±ia constructora fronteriza, s.a. de c.v.'), (3, 'palermo construcciones, s.a. de c.v.'), (3, 'palermo construcciones s.a. de c.v.'), (4, 'emilio rh, s. de r.l. de m.i.'), (4, 'emilio rh, s. de r.l. m.i.')]\n",
      "('proyectos y construcciones valar, s.a. de c.v.', 'proyectos y construcciones hanliba, s.a. de c.v.', 'proyectos y construcciones hanliba, s.a. de c.v.')\n",
      "('constructora y proovedora fuentes, s.a. de c.v.', 'constructora y proveedora fuentes, s.a. de c.v.')\n",
      "('proyectos construcciones y servicios de chihuahua, s.a. de c.v.', 'proyectos, construcciones y servicios de chihuahua, s.a. de c.v.', 'proyectos, construcciones y servicios de chihuahua, s.a. de c.v.')\n",
      "('emilio rh, s. de r.l. de m.i.', 'emilio rh, s. de r.l. m.i.')\n",
      "[(1, 'proyectos y construcciones valar, s.a. de c.v.'), (1, 'proyectos y construcciones hanliba, s.a. de c.v.'), (1, 'proyectos y construcciones hanliba, s.a. de c.v.'), (2, 'constructora y proovedora fuentes, s.a. de c.v.'), (2, 'constructora y proveedora fuentes, s.a. de c.v.'), (3, 'proyectos construcciones y servicios de chihuahua, s.a. de c.v.'), (3, 'proyectos, construcciones y servicios de chihuahua, s.a. de c.v.'), (3, 'proyectos, construcciones y servicios de chihuahua, s.a. de c.v.'), (4, 'emilio rh, s. de r.l. de m.i.'), (4, 'emilio rh, s. de r.l. m.i.')]\n",
      "('proyectos y construcciones valar, s.a. de c.v.', 'proyectos y construcciones hanliba, s.a. de c.v.')\n",
      "('luis carlos bueno gadea', 'luis carlos bueno gardea')\n",
      "('proyectos construcciones y servicios de chihuahua, s.a. de c.v.', 'proyectos, construcciones y servicios de chihuahua, s.a. de c.v.')\n",
      "[(1, 'proyectos y construcciones valar, s.a. de c.v.'), (1, 'proyectos y construcciones hanliba, s.a. de c.v.'), (2, 'luis carlos bueno gadea'), (2, 'luis carlos bueno gardea'), (3, 'proyectos construcciones y servicios de chihuahua, s.a. de c.v.'), (3, 'proyectos, construcciones y servicios de chihuahua, s.a. de c.v.')]\n"
     ]
    }
   ],
   "source": [
    "df1 = standarize_names(df_chihuahua, list1)\n",
    "df1.to_csv('df_chihuahua_clean.csv')"
   ]
  },
  {
   "cell_type": "code",
   "execution_count": null,
   "metadata": {},
   "outputs": [],
   "source": []
  }
 ],
 "metadata": {
  "kernelspec": {
   "display_name": "Python 3",
   "language": "python",
   "name": "python3"
  },
  "language_info": {
   "codemirror_mode": {
    "name": "ipython",
    "version": 3
   },
   "file_extension": ".py",
   "mimetype": "text/x-python",
   "name": "python",
   "nbconvert_exporter": "python",
   "pygments_lexer": "ipython3",
   "version": "3.7.0"
  }
 },
 "nbformat": 4,
 "nbformat_minor": 2
}
